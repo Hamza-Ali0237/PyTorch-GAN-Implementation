{
  "cells": [
    {
      "cell_type": "markdown",
      "metadata": {
        "id": "view-in-github",
        "colab_type": "text"
      },
      "source": [
        "<a href=\"https://colab.research.google.com/github/Hamza-Ali0237/PyTorch-GAN-Implementation/blob/main/GAN.ipynb\" target=\"_parent\"><img src=\"https://colab.research.google.com/assets/colab-badge.svg\" alt=\"Open In Colab\"/></a>"
      ]
    },
    {
      "cell_type": "markdown",
      "metadata": {
        "id": "kTT8Z7ZV-dPp"
      },
      "source": [
        "# Implementing GAN from scratch in PyTorch"
      ]
    },
    {
      "cell_type": "markdown",
      "metadata": {
        "id": "Va-p6q8N-dPr"
      },
      "source": [
        "Dataset: [https://www.kaggle.com/datasets/kvpratama/pokemon-images-dataset](https://www.kaggle.com/datasets/kvpratama/pokemon-images-dataset)"
      ]
    },
    {
      "cell_type": "code",
      "source": [
        "!pip install torchmetrics"
      ],
      "metadata": {
        "id": "amGkto_6_NeT",
        "outputId": "87e913f2-4b09-441c-97d5-8cb8a9037754",
        "colab": {
          "base_uri": "https://localhost:8080/"
        }
      },
      "execution_count": 3,
      "outputs": [
        {
          "output_type": "stream",
          "name": "stdout",
          "text": [
            "Collecting torchmetrics\n",
            "  Downloading torchmetrics-1.6.1-py3-none-any.whl.metadata (21 kB)\n",
            "Requirement already satisfied: numpy>1.20.0 in /usr/local/lib/python3.10/dist-packages (from torchmetrics) (1.26.4)\n",
            "Requirement already satisfied: packaging>17.1 in /usr/local/lib/python3.10/dist-packages (from torchmetrics) (24.2)\n",
            "Requirement already satisfied: torch>=2.0.0 in /usr/local/lib/python3.10/dist-packages (from torchmetrics) (2.5.1+cu121)\n",
            "Collecting lightning-utilities>=0.8.0 (from torchmetrics)\n",
            "  Downloading lightning_utilities-0.11.9-py3-none-any.whl.metadata (5.2 kB)\n",
            "Requirement already satisfied: setuptools in /usr/local/lib/python3.10/dist-packages (from lightning-utilities>=0.8.0->torchmetrics) (75.1.0)\n",
            "Requirement already satisfied: typing-extensions in /usr/local/lib/python3.10/dist-packages (from lightning-utilities>=0.8.0->torchmetrics) (4.12.2)\n",
            "Requirement already satisfied: filelock in /usr/local/lib/python3.10/dist-packages (from torch>=2.0.0->torchmetrics) (3.16.1)\n",
            "Requirement already satisfied: networkx in /usr/local/lib/python3.10/dist-packages (from torch>=2.0.0->torchmetrics) (3.4.2)\n",
            "Requirement already satisfied: jinja2 in /usr/local/lib/python3.10/dist-packages (from torch>=2.0.0->torchmetrics) (3.1.5)\n",
            "Requirement already satisfied: fsspec in /usr/local/lib/python3.10/dist-packages (from torch>=2.0.0->torchmetrics) (2024.10.0)\n",
            "Requirement already satisfied: sympy==1.13.1 in /usr/local/lib/python3.10/dist-packages (from torch>=2.0.0->torchmetrics) (1.13.1)\n",
            "Requirement already satisfied: mpmath<1.4,>=1.1.0 in /usr/local/lib/python3.10/dist-packages (from sympy==1.13.1->torch>=2.0.0->torchmetrics) (1.3.0)\n",
            "Requirement already satisfied: MarkupSafe>=2.0 in /usr/local/lib/python3.10/dist-packages (from jinja2->torch>=2.0.0->torchmetrics) (3.0.2)\n",
            "Downloading torchmetrics-1.6.1-py3-none-any.whl (927 kB)\n",
            "\u001b[2K   \u001b[90m━━━━━━━━━━━━━━━━━━━━━━━━━━━━━━━━━━━━━━━━\u001b[0m \u001b[32m927.3/927.3 kB\u001b[0m \u001b[31m21.4 MB/s\u001b[0m eta \u001b[36m0:00:00\u001b[0m\n",
            "\u001b[?25hDownloading lightning_utilities-0.11.9-py3-none-any.whl (28 kB)\n",
            "Installing collected packages: lightning-utilities, torchmetrics\n",
            "Successfully installed lightning-utilities-0.11.9 torchmetrics-1.6.1\n"
          ]
        }
      ]
    },
    {
      "cell_type": "code",
      "source": [
        "from google.colab import drive\n",
        "drive.mount('/content/drive')"
      ],
      "metadata": {
        "id": "OGWq2vT_E39x",
        "colab": {
          "base_uri": "https://localhost:8080/"
        },
        "outputId": "d2acd8ad-ed2b-4754-e887-9efb8ecb3a4d"
      },
      "execution_count": 1,
      "outputs": [
        {
          "output_type": "stream",
          "name": "stdout",
          "text": [
            "Mounted at /content/drive\n"
          ]
        }
      ]
    },
    {
      "cell_type": "code",
      "execution_count": 4,
      "metadata": {
        "vscode": {
          "languageId": "plaintext"
        },
        "id": "jV-hTPt7-dP-"
      },
      "outputs": [],
      "source": [
        "import torch as t\n",
        "import torch.nn as nn\n",
        "import torchvision as tv\n",
        "import torchmetrics as tm\n",
        "import matplotlib.pyplot as plt"
      ]
    },
    {
      "cell_type": "code",
      "source": [
        "# Deep Convolutional Generator Block\n",
        "def dc_gen_block(in_dim, out_dim, kernel_size, stride):\n",
        "  return nn.Sequential(\n",
        "      nn.ConvTranspose2d(in_dim, out_dim, kernel_size, stride=stride),\n",
        "      nn.BatchNorm2d(out_dim),\n",
        "      nn.ReLU()\n",
        "  )\n",
        "\n",
        "# Generator Loss Function\n",
        "def gen_loss(gen, disc, batch_size, z_dim):\n",
        "    noise = t.randn(batch_size, z_dim, 1, 1, device=next(gen.parameters()).device)\n",
        "    fake = gen(noise)\n",
        "    disc_pred = disc(fake)\n",
        "    criterion = nn.BCEWithLogitsLoss()\n",
        "    return criterion(disc_pred, t.ones_like(disc_pred))\n",
        "\n",
        "# Deep Convolutional Generator Class\n",
        "class DCGenerator(nn.Module):\n",
        "    def __init__(self, z_dim, kernel_size=4, stride=2):\n",
        "        super(DCGenerator, self).__init__()\n",
        "        self.gen = nn.Sequential(\n",
        "            dc_gen_block(z_dim, 256, kernel_size, stride),\n",
        "            dc_gen_block(256, 128, kernel_size, stride),\n",
        "            dc_gen_block(128, 64, kernel_size, stride),\n",
        "            nn.ConvTranspose2d(64, 3, kernel_size, stride=stride, padding=1),\n",
        "            nn.Tanh()\n",
        "        )\n",
        "\n",
        "    def forward(self, x):\n",
        "        x = x.view(len(x), -1, 1, 1)\n",
        "        return self.gen(x)"
      ],
      "metadata": {
        "id": "1ZqiUhr6GnYe"
      },
      "execution_count": null,
      "outputs": []
    },
    {
      "cell_type": "code",
      "source": [
        "# Deep Convolutional Discriminator Block\n",
        "def dc_disc_block(in_dim, out_dim, kernel_size, stride):\n",
        "    return nn.Sequential(\n",
        "        nn.Conv2d(in_dim, out_dim, kernel_size, stride=stride, padding=1),\n",
        "        nn.BatchNorm2d(out_dim),\n",
        "        nn.LeakyReLU(0.2)\n",
        "    )\n",
        "\n",
        "# Discriminator Loss Function\n",
        "\n",
        "def disc_loss(gen, disc, real, batch_size, z_dim):\n",
        "    noise = t.randn(batch_size, z_dim, 1, 1, device=next(gen.parameters()).device)\n",
        "    fake = gen(noise).detach()\n",
        "    fake_pred = disc(fake)\n",
        "    real_pred = disc(real)\n",
        "    criterion = nn.BCEWithLogitsLoss()\n",
        "    fake_loss = criterion(fake_pred, t.zeros_like(fake_pred))\n",
        "    real_loss = criterion(real_pred, t.ones_like(real_pred))\n",
        "    return (fake_loss + real_loss) / 2\n",
        "\n",
        "# Deep Convolutional Discriminator Class\n",
        "class DCDiscriminator(nn.Module):\n",
        "    def __init__(self, kernel_size=4, stride=2):\n",
        "        super(DCDiscriminator, self).__init__()\n",
        "        self.disc = nn.Sequential(\n",
        "            dc_disc_block(3, 64, kernel_size, stride),\n",
        "            dc_disc_block(64, 128, kernel_size, stride),\n",
        "            dc_disc_block(128, 256, kernel_size, stride),\n",
        "            nn.Conv2d(256, 1, kernel_size, stride=stride, padding=0)\n",
        "        )\n",
        "\n",
        "    def forward(self, x):\n",
        "        return self.disc(x).view(len(x), -1)"
      ],
      "metadata": {
        "id": "UuqqBE1GFOLV"
      },
      "execution_count": null,
      "outputs": []
    },
    {
      "cell_type": "markdown",
      "source": [
        "# Loading Dataset"
      ],
      "metadata": {
        "id": "Q46R-enF55wd"
      }
    },
    {
      "cell_type": "code",
      "source": [
        "# Define Transformations\n",
        "transform = tv.transforms.Compose([\n",
        "    tv.transforms.Resize(64),\n",
        "    tv.transforms.ToTensor(),\n",
        "    tv.transforms.Normalize((0.5, 0.5, 0.5), (0.5, 0.5, 0.5))\n",
        "])\n",
        "\n",
        "dataset = tv.datasets.ImageFolder(root=\"/content/drive/MyDrive/pokemon-dataset/pokemon\", transform=transform)\n",
        "\n",
        "dataloader_train = t.utils.data.DataLoader(dataset, batch_size=128, shuffle=True)"
      ],
      "metadata": {
        "id": "i-XlZHgi57nx"
      },
      "execution_count": null,
      "outputs": []
    },
    {
      "cell_type": "markdown",
      "source": [
        "# Training Model"
      ],
      "metadata": {
        "id": "x5o9708U575v"
      }
    },
    {
      "cell_type": "code",
      "source": [
        "# HYPERPARAMETERS\n",
        "z_dim = 100\n",
        "lr = 0.0002\n",
        "batch_size = 128\n",
        "EPOCHS = 10"
      ],
      "metadata": {
        "id": "73R6AJ-78t0-"
      },
      "execution_count": null,
      "outputs": []
    },
    {
      "cell_type": "code",
      "source": [
        "# Check for GPU availability\n",
        "device = t.device(\"cuda\" if t.cuda.is_available() else \"cpu\")\n",
        "\n",
        "# Models\n",
        "gen = DCGenerator(z_dim).to(device)\n",
        "disc = DCDiscriminator().to(device)\n",
        "\n",
        "# Optimizers\n",
        "gen_opt = t.optim.Adam(gen.parameters(), lr=lr, betas=(0.5, 0.999))\n",
        "disc_opt = t.optim.Adam(disc.parameters(), lr=lr, betas=(0.5, 0.999))"
      ],
      "metadata": {
        "id": "68Dr9bWE8yZu"
      },
      "execution_count": null,
      "outputs": []
    },
    {
      "cell_type": "code",
      "source": [
        "# Training Loop\n",
        "for epoch in range(EPOCHS):\n",
        "  for real in dataloader_train:\n",
        "    real = real.to(device)\n",
        "    cur_batch_size = len(real)\n",
        "\n",
        "    # Update Discriminator\n",
        "    disc_opt.zero_grad()\n",
        "    d_loss = disc_loss(gen, disc, real, cur_batch_size, z_dim)\n",
        "    d_loss.backward()\n",
        "    disc_opt.step()\n",
        "\n",
        "\n",
        "    # Update Generator\n",
        "    gen_opt.zero_grad()\n",
        "    g_loss = gen_loss(gen, disc, cur_batch_size, z_dim)\n",
        "    g_loss.backward()\n",
        "    gen_opt.step()\n",
        "\n",
        "  print(f\"Epoch {epoch+1}/{EPOCHS} | Disc Loss: {d_loss.item():.4f} | Gen Loss: {g_loss.item():.4f}\")"
      ],
      "metadata": {
        "id": "ohNG1M8y4qOp"
      },
      "execution_count": null,
      "outputs": []
    },
    {
      "cell_type": "markdown",
      "source": [
        "# Generating Images"
      ],
      "metadata": {
        "id": "yDwJ7dWj9zHD"
      }
    },
    {
      "cell_type": "code",
      "source": [
        "num_images = 9\n",
        "noise = t.randn(num_images, z_dim, 1, 1).to(next(gen.parameters()).device)\n",
        "\n",
        "with t.no_grad():\n",
        "  fake = gen(noise)\n",
        "\n",
        "plt.figure(figsize=(10, 10))\n",
        "for i in range(num_images):\n",
        "    image_tensor = fake[i]\n",
        "    image_permuted = image_tensor.permute(1, 2, 0).cpu()\n",
        "    image_denormalized = (image_permuted + 1) / 2\n",
        "\n",
        "    plt.subplot(3, 3, i + 1)\n",
        "    plt.imshow(image_denormalized.numpy())\n",
        "    plt.axis(\"off\")\n",
        "\n",
        "plt.show()"
      ],
      "metadata": {
        "id": "heMAM7S_5nX6"
      },
      "execution_count": null,
      "outputs": []
    },
    {
      "cell_type": "markdown",
      "source": [
        "# Evaluate Model: Frechet Inception Distance"
      ],
      "metadata": {
        "id": "o4piH7JO-3jJ"
      }
    },
    {
      "cell_type": "code",
      "source": [
        "# Initialize FID metric\n",
        "fid = tm.image.fid.FrechetInceptionDistance(feature=2048).to(device)\n",
        "\n",
        "real_images, _ = next(iter(dataloader_train))\n",
        "real_images = real_images.to(device)\n",
        "\n",
        "# Generate a batch of fake images\n",
        "num_images = real_images.size(0)\n",
        "noise = t.randn(num_images, z_dim, 1, 1).to(device)\n",
        "\n",
        "with t.no_grad():\n",
        "    fake_images = gen(noise)\n",
        "\n",
        "# Resize images to the input size required by Inception model\n",
        "resize_transform = tv.transforms.Resize((299, 299))\n",
        "real_images_resized = resize_transform(real_images)\n",
        "fake_images_resized = resize_transform(fake_images)\n",
        "\n",
        "# Normalize the range to [0, 1]\n",
        "real_images_rescaled = (real_images_resized + 1) / 2\n",
        "fake_images_rescaled = (fake_images_resized + 1) / 2\n",
        "\n",
        "fid.update(real_images_rescaled, real=True)\n",
        "fid.update(fake_images_rescaled, real=False)\n",
        "\n",
        "fid_score = fid.compute()\n",
        "print(f\"FID Score: {fid_score.item()}\")"
      ],
      "metadata": {
        "id": "ATIJY6ba_Xs5"
      },
      "execution_count": null,
      "outputs": []
    }
  ],
  "metadata": {
    "language_info": {
      "name": "python"
    },
    "colab": {
      "provenance": [],
      "gpuType": "T4",
      "include_colab_link": true
    },
    "kernelspec": {
      "name": "python3",
      "display_name": "Python 3"
    },
    "accelerator": "GPU"
  },
  "nbformat": 4,
  "nbformat_minor": 0
}