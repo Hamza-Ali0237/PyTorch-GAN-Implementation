{
  "cells": [
    {
      "cell_type": "markdown",
      "metadata": {
        "id": "kTT8Z7ZV-dPp"
      },
      "source": [
        "# Implementing GAN from scratch in PyTorch"
      ]
    },
    {
      "cell_type": "markdown",
      "metadata": {
        "id": "Va-p6q8N-dPr"
      },
      "source": [
        "Dataset: [https://www.kaggle.com/datasets/kvpratama/pokemon-images-dataset](https://www.kaggle.com/datasets/kvpratama/pokemon-images-dataset)"
      ]
    },
    {
      "cell_type": "code",
      "source": [
        "from google.colab import drive\n",
        "drive.mount('/content/drive')"
      ],
      "metadata": {
        "id": "OGWq2vT_E39x"
      },
      "execution_count": null,
      "outputs": []
    },
    {
      "cell_type": "code",
      "execution_count": null,
      "metadata": {
        "vscode": {
          "languageId": "plaintext"
        },
        "id": "jV-hTPt7-dP-"
      },
      "outputs": [],
      "source": [
        "import torch as t\n",
        "import torch.nn as nn\n",
        "import torchvision as tv\n",
        "import matplotlib.pyplot as plt"
      ]
    },
    {
      "cell_type": "code",
      "source": [
        "# Deep Convolutional Generator Block\n",
        "def dc_gen_block(in_dim, out_dim, kernel_size, stride):\n",
        "  return nn.Sequential(\n",
        "      nn.Conv2d(in_dim, out_dim, kernel_size, stride=stride),\n",
        "      nn.BatchNorm2d(out_dim),\n",
        "      nn.LeakyReLU(0.2)\n",
        "  )"
      ],
      "metadata": {
        "id": "1ZqiUhr6GnYe"
      },
      "execution_count": null,
      "outputs": []
    },
    {
      "cell_type": "code",
      "source": [],
      "metadata": {
        "id": "UuqqBE1GFOLV"
      },
      "execution_count": null,
      "outputs": []
    }
  ],
  "metadata": {
    "language_info": {
      "name": "python"
    },
    "colab": {
      "provenance": []
    },
    "kernelspec": {
      "name": "python3",
      "display_name": "Python 3"
    }
  },
  "nbformat": 4,
  "nbformat_minor": 0
}