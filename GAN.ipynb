{
  "cells": [
    {
      "cell_type": "markdown",
      "metadata": {
        "id": "view-in-github",
        "colab_type": "text"
      },
      "source": [
        "<a href=\"https://colab.research.google.com/github/Hamza-Ali0237/PyTorch-GAN-Implementation/blob/main/GAN.ipynb\" target=\"_parent\"><img src=\"https://colab.research.google.com/assets/colab-badge.svg\" alt=\"Open In Colab\"/></a>"
      ]
    },
    {
      "cell_type": "markdown",
      "metadata": {
        "id": "kTT8Z7ZV-dPp"
      },
      "source": [
        "# Implementing GAN from scratch in PyTorch"
      ]
    },
    {
      "cell_type": "markdown",
      "metadata": {
        "id": "Va-p6q8N-dPr"
      },
      "source": [
        "Dataset: [https://www.kaggle.com/datasets/kvpratama/pokemon-images-dataset](https://www.kaggle.com/datasets/kvpratama/pokemon-images-dataset)"
      ]
    },
    {
      "cell_type": "code",
      "source": [
        "from google.colab import drive\n",
        "drive.mount('/content/drive')"
      ],
      "metadata": {
        "id": "OGWq2vT_E39x"
      },
      "execution_count": null,
      "outputs": []
    },
    {
      "cell_type": "code",
      "execution_count": null,
      "metadata": {
        "vscode": {
          "languageId": "plaintext"
        },
        "id": "jV-hTPt7-dP-"
      },
      "outputs": [],
      "source": [
        "import torch as t\n",
        "import torch.nn as nn\n",
        "import torchvision as tv\n",
        "import matplotlib.pyplot as plt"
      ]
    },
    {
      "cell_type": "code",
      "source": [
        "# Deep Convolutional Generator Block\n",
        "def dc_gen_block(in_dim, out_dim, kernel_size, stride):\n",
        "  return nn.Sequential(\n",
        "      nn.ConvTranspose2d(in_dim, out_dim, kernel_size, stride=stride),\n",
        "      nn.BatchNorm2d(out_dim),\n",
        "      nn.ReLU()\n",
        "  )\n",
        "\n",
        "# Generator Loss Function\n",
        "def gen_loss(gen, disc, num_images, z_dim):\n",
        "  noise = t.randn(num_images, z_dim)\n",
        "  fake = gen(noise)\n",
        "  disc_pred = disc(fake)\n",
        "  criterion = nn.BCEWithLogitsLoss()\n",
        "  gen_loss = criterion(disc_pred, torch.ones_like(disc_pred))\n",
        "  return gen_loss\n",
        "\n",
        "# Deep Convolutional Generator Class\n",
        "class DCGenerator(nn.Module):\n",
        "  def __init__(self, in_dim, kernel_size=4, stride=2):\n",
        "    super(DCGenerator, self).__init__()\n",
        "    self.in_dim = in_dim\n",
        "    self.gen = nn.Sequential(\n",
        "        dc_gen_block(in_dim, 1024, kernel_size, stride),\n",
        "        dc_gen_block(1024, 512, kernel_size, stride),\n",
        "        dc_gen_block(512, 256, kernel_size, stride),\n",
        "        nn.ConvTransposed2d(256, 3, kernel_size, stride=stride),\n",
        "        nn.Tanh()\n",
        "    )\n",
        "\n",
        "  def forward(self, x):\n",
        "    x = x.view(len(x), self.in_dim, 1, 1)\n",
        "    return self.gen(x)"
      ],
      "metadata": {
        "id": "1ZqiUhr6GnYe"
      },
      "execution_count": null,
      "outputs": []
    },
    {
      "cell_type": "code",
      "source": [
        "# Deep Convolutional Generator Block\n",
        "def dc_disc_block(in_dim, out_dim, kernel_size, stride):\n",
        "  return nn.Sequential(\n",
        "      nn.Conv2d(in_dim, out_dim, kernel_size, stride=stride),\n",
        "      nn.BatchNorm2d(out_dim),\n",
        "      nn.LeakyReLU(0.2)\n",
        "  )\n",
        "\n",
        "# Deep Convolutional Generator Class\n",
        "class DCDiscrimantor(nn.Module):\n",
        "  def __init__(self, kernel_size=4, stride=2):\n",
        "    super(DCDiscriminator, self).__init__()\n",
        "    self.disc = nn.Sequential(\n",
        "        dc_disc_block(3, 512, kernel_size, stride),\n",
        "        dc_disc_block(512, 1024, kernel_size, stride),\n",
        "        nn.Conv2d(1024, 1, kernel_size, stride)\n",
        "    )\n",
        "\n",
        "  def forward(self, x):\n",
        "    x = self.disc(x)\n",
        "    return x.view(len(x), -1)"
      ],
      "metadata": {
        "id": "UuqqBE1GFOLV"
      },
      "execution_count": null,
      "outputs": []
    },
    {
      "cell_type": "code",
      "source": [],
      "metadata": {
        "id": "ohNG1M8y4qOp"
      },
      "execution_count": null,
      "outputs": []
    }
  ],
  "metadata": {
    "language_info": {
      "name": "python"
    },
    "colab": {
      "provenance": [],
      "include_colab_link": true
    },
    "kernelspec": {
      "name": "python3",
      "display_name": "Python 3"
    }
  },
  "nbformat": 4,
  "nbformat_minor": 0
}