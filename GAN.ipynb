{
  "cells": [
    {
      "cell_type": "markdown",
      "metadata": {
        "id": "view-in-github",
        "colab_type": "text"
      },
      "source": [
        "<a href=\"https://colab.research.google.com/github/Hamza-Ali0237/PyTorch-GAN-Implementation/blob/main/GAN.ipynb\" target=\"_parent\"><img src=\"https://colab.research.google.com/assets/colab-badge.svg\" alt=\"Open In Colab\"/></a>"
      ]
    },
    {
      "cell_type": "markdown",
      "metadata": {
        "id": "kTT8Z7ZV-dPp"
      },
      "source": [
        "# Implementing GAN from scratch in PyTorch"
      ]
    },
    {
      "cell_type": "markdown",
      "metadata": {
        "id": "Va-p6q8N-dPr"
      },
      "source": [
        "Dataset: [https://www.kaggle.com/datasets/kvpratama/pokemon-images-dataset](https://www.kaggle.com/datasets/kvpratama/pokemon-images-dataset)"
      ]
    },
    {
      "cell_type": "code",
      "source": [
        "!pip install torchmetrics"
      ],
      "metadata": {
        "colab": {
          "base_uri": "https://localhost:8080/"
        },
        "id": "amGkto_6_NeT",
        "outputId": "3aa3026f-3c88-4c0f-a77e-a101938433a6"
      },
      "execution_count": 1,
      "outputs": [
        {
          "output_type": "stream",
          "name": "stdout",
          "text": [
            "Requirement already satisfied: torchmetrics in /usr/local/lib/python3.10/dist-packages (1.6.1)\n",
            "Requirement already satisfied: numpy>1.20.0 in /usr/local/lib/python3.10/dist-packages (from torchmetrics) (1.26.4)\n",
            "Requirement already satisfied: packaging>17.1 in /usr/local/lib/python3.10/dist-packages (from torchmetrics) (24.2)\n",
            "Requirement already satisfied: torch>=2.0.0 in /usr/local/lib/python3.10/dist-packages (from torchmetrics) (2.5.1+cu121)\n",
            "Requirement already satisfied: lightning-utilities>=0.8.0 in /usr/local/lib/python3.10/dist-packages (from torchmetrics) (0.11.9)\n",
            "Requirement already satisfied: setuptools in /usr/local/lib/python3.10/dist-packages (from lightning-utilities>=0.8.0->torchmetrics) (75.1.0)\n",
            "Requirement already satisfied: typing-extensions in /usr/local/lib/python3.10/dist-packages (from lightning-utilities>=0.8.0->torchmetrics) (4.12.2)\n",
            "Requirement already satisfied: filelock in /usr/local/lib/python3.10/dist-packages (from torch>=2.0.0->torchmetrics) (3.16.1)\n",
            "Requirement already satisfied: networkx in /usr/local/lib/python3.10/dist-packages (from torch>=2.0.0->torchmetrics) (3.4.2)\n",
            "Requirement already satisfied: jinja2 in /usr/local/lib/python3.10/dist-packages (from torch>=2.0.0->torchmetrics) (3.1.5)\n",
            "Requirement already satisfied: fsspec in /usr/local/lib/python3.10/dist-packages (from torch>=2.0.0->torchmetrics) (2024.10.0)\n",
            "Requirement already satisfied: sympy==1.13.1 in /usr/local/lib/python3.10/dist-packages (from torch>=2.0.0->torchmetrics) (1.13.1)\n",
            "Requirement already satisfied: mpmath<1.4,>=1.1.0 in /usr/local/lib/python3.10/dist-packages (from sympy==1.13.1->torch>=2.0.0->torchmetrics) (1.3.0)\n",
            "Requirement already satisfied: MarkupSafe>=2.0 in /usr/local/lib/python3.10/dist-packages (from jinja2->torch>=2.0.0->torchmetrics) (3.0.2)\n"
          ]
        }
      ]
    },
    {
      "cell_type": "code",
      "source": [
        "!pip install torch-fidelity"
      ],
      "metadata": {
        "id": "xTkHoQbxAwQo",
        "outputId": "b8cd1ee1-bdd4-4bdf-b5f8-23a92e6e219a",
        "colab": {
          "base_uri": "https://localhost:8080/"
        }
      },
      "execution_count": 2,
      "outputs": [
        {
          "output_type": "stream",
          "name": "stdout",
          "text": [
            "Requirement already satisfied: torch-fidelity in /usr/local/lib/python3.10/dist-packages (0.3.0)\n",
            "Requirement already satisfied: numpy in /usr/local/lib/python3.10/dist-packages (from torch-fidelity) (1.26.4)\n",
            "Requirement already satisfied: Pillow in /usr/local/lib/python3.10/dist-packages (from torch-fidelity) (11.1.0)\n",
            "Requirement already satisfied: scipy in /usr/local/lib/python3.10/dist-packages (from torch-fidelity) (1.13.1)\n",
            "Requirement already satisfied: torch in /usr/local/lib/python3.10/dist-packages (from torch-fidelity) (2.5.1+cu121)\n",
            "Requirement already satisfied: torchvision in /usr/local/lib/python3.10/dist-packages (from torch-fidelity) (0.20.1+cu121)\n",
            "Requirement already satisfied: tqdm in /usr/local/lib/python3.10/dist-packages (from torch-fidelity) (4.67.1)\n",
            "Requirement already satisfied: filelock in /usr/local/lib/python3.10/dist-packages (from torch->torch-fidelity) (3.16.1)\n",
            "Requirement already satisfied: typing-extensions>=4.8.0 in /usr/local/lib/python3.10/dist-packages (from torch->torch-fidelity) (4.12.2)\n",
            "Requirement already satisfied: networkx in /usr/local/lib/python3.10/dist-packages (from torch->torch-fidelity) (3.4.2)\n",
            "Requirement already satisfied: jinja2 in /usr/local/lib/python3.10/dist-packages (from torch->torch-fidelity) (3.1.5)\n",
            "Requirement already satisfied: fsspec in /usr/local/lib/python3.10/dist-packages (from torch->torch-fidelity) (2024.10.0)\n",
            "Requirement already satisfied: sympy==1.13.1 in /usr/local/lib/python3.10/dist-packages (from torch->torch-fidelity) (1.13.1)\n",
            "Requirement already satisfied: mpmath<1.4,>=1.1.0 in /usr/local/lib/python3.10/dist-packages (from sympy==1.13.1->torch->torch-fidelity) (1.3.0)\n",
            "Requirement already satisfied: MarkupSafe>=2.0 in /usr/local/lib/python3.10/dist-packages (from jinja2->torch->torch-fidelity) (3.0.2)\n"
          ]
        }
      ]
    },
    {
      "cell_type": "code",
      "source": [
        "from google.colab import drive\n",
        "drive.mount('/content/drive')"
      ],
      "metadata": {
        "id": "OGWq2vT_E39x",
        "colab": {
          "base_uri": "https://localhost:8080/"
        },
        "outputId": "4b9055e7-3761-401f-a165-eefb25f713ee"
      },
      "execution_count": 3,
      "outputs": [
        {
          "output_type": "stream",
          "name": "stdout",
          "text": [
            "Drive already mounted at /content/drive; to attempt to forcibly remount, call drive.mount(\"/content/drive\", force_remount=True).\n"
          ]
        }
      ]
    },
    {
      "cell_type": "code",
      "execution_count": 18,
      "metadata": {
        "vscode": {
          "languageId": "plaintext"
        },
        "id": "jV-hTPt7-dP-"
      },
      "outputs": [],
      "source": [
        "import torch as t\n",
        "import numpy as np\n",
        "import torch.nn as nn\n",
        "import torchvision as tv\n",
        "import torchmetrics as tm\n",
        "import matplotlib.pyplot as plt"
      ]
    },
    {
      "cell_type": "code",
      "source": [
        "# Deep Convolutional Generator Block\n",
        "def dc_gen_block(in_dim, out_dim, kernel_size, stride):\n",
        "  return nn.Sequential(\n",
        "      nn.ConvTranspose2d(in_dim, out_dim, kernel_size, stride=stride),\n",
        "      nn.BatchNorm2d(out_dim),\n",
        "      nn.ReLU()\n",
        "  )\n",
        "\n",
        "# Generator Loss Function\n",
        "def gen_loss(gen, disc, batch_size, z_dim):\n",
        "    noise = t.randn(batch_size, z_dim, 1, 1, device=next(gen.parameters()).device)\n",
        "    fake = gen(noise)\n",
        "    disc_pred = disc(fake)\n",
        "    criterion = nn.BCEWithLogitsLoss()\n",
        "    return criterion(disc_pred, t.ones_like(disc_pred))\n",
        "\n",
        "# Deep Convolutional Generator Class\n",
        "class DCGenerator(nn.Module):\n",
        "    def __init__(self, z_dim, kernel_size=4, stride=2):\n",
        "        super(DCGenerator, self).__init__()\n",
        "        self.gen = nn.Sequential(\n",
        "            dc_gen_block(z_dim, 256, kernel_size, stride),\n",
        "            dc_gen_block(256, 128, kernel_size, stride),\n",
        "            dc_gen_block(128, 64, kernel_size, stride),\n",
        "            nn.ConvTranspose2d(64, 3, kernel_size, stride=stride, padding=1),\n",
        "            nn.Tanh()\n",
        "        )\n",
        "\n",
        "    def forward(self, x):\n",
        "        x = x.view(len(x), -1, 1, 1)\n",
        "        return self.gen(x)"
      ],
      "metadata": {
        "id": "1ZqiUhr6GnYe"
      },
      "execution_count": 5,
      "outputs": []
    },
    {
      "cell_type": "code",
      "source": [
        "# Deep Convolutional Discriminator Block\n",
        "def dc_disc_block(in_dim, out_dim, kernel_size, stride):\n",
        "    return nn.Sequential(\n",
        "        nn.Conv2d(in_dim, out_dim, kernel_size, stride=stride, padding=1),\n",
        "        nn.BatchNorm2d(out_dim),\n",
        "        nn.LeakyReLU(0.2)\n",
        "    )\n",
        "\n",
        "# Discriminator Loss Function\n",
        "\n",
        "def disc_loss(gen, disc, real, batch_size, z_dim):\n",
        "    noise = t.randn(batch_size, z_dim, 1, 1, device=next(gen.parameters()).device)\n",
        "    fake = gen(noise).detach()\n",
        "    fake_pred = disc(fake)\n",
        "    real_pred = disc(real)\n",
        "    criterion = nn.BCEWithLogitsLoss()\n",
        "    fake_loss = criterion(fake_pred, t.zeros_like(fake_pred) + 0.1)\n",
        "    real_loss = criterion(real_pred, t.ones_like(real_pred)* 0.9 )\n",
        "    return (fake_loss + real_loss) / 2\n",
        "\n",
        "# Deep Convolutional Discriminator Class\n",
        "class DCDiscriminator(nn.Module):\n",
        "    def __init__(self, kernel_size=4, stride=2):\n",
        "        super(DCDiscriminator, self).__init__()\n",
        "        self.disc = nn.Sequential(\n",
        "            dc_disc_block(3, 64, kernel_size, stride),\n",
        "            dc_disc_block(64, 128, kernel_size, stride),\n",
        "            dc_disc_block(128, 256, kernel_size, stride),\n",
        "            nn.Conv2d(256, 1, kernel_size, stride=stride, padding=0)\n",
        "        )\n",
        "\n",
        "    def forward(self, x):\n",
        "        return self.disc(x).view(len(x), -1)"
      ],
      "metadata": {
        "id": "UuqqBE1GFOLV"
      },
      "execution_count": 6,
      "outputs": []
    },
    {
      "cell_type": "markdown",
      "source": [
        "# Loading Dataset"
      ],
      "metadata": {
        "id": "Q46R-enF55wd"
      }
    },
    {
      "cell_type": "code",
      "source": [
        "# Define Transformations\n",
        "transform = tv.transforms.Compose([\n",
        "    tv.transforms.Resize(64),\n",
        "    tv.transforms.ToTensor(),\n",
        "    tv.transforms.Normalize((0.5, 0.5, 0.5), (0.5, 0.5, 0.5))\n",
        "])\n",
        "\n",
        "dataset = tv.datasets.ImageFolder(root=\"/content/drive/MyDrive/pokemon-dataset/\", transform=transform)\n",
        "\n",
        "dataloader_train = t.utils.data.DataLoader(dataset, batch_size=128, shuffle=True)"
      ],
      "metadata": {
        "id": "i-XlZHgi57nx"
      },
      "execution_count": 7,
      "outputs": []
    },
    {
      "cell_type": "markdown",
      "source": [
        "# Training Model"
      ],
      "metadata": {
        "id": "x5o9708U575v"
      }
    },
    {
      "cell_type": "code",
      "source": [
        "# HYPERPARAMETERS\n",
        "z_dim = 128\n",
        "lr = 0.0001\n",
        "batch_size = 64\n",
        "EPOCHS = 10"
      ],
      "metadata": {
        "id": "73R6AJ-78t0-"
      },
      "execution_count": 25,
      "outputs": []
    },
    {
      "cell_type": "code",
      "source": [
        "# Check for GPU availability\n",
        "device = t.device(\"cuda\" if t.cuda.is_available() else \"cpu\")\n",
        "\n",
        "# Models\n",
        "gen = DCGenerator(z_dim).to(device)\n",
        "disc = DCDiscriminator().to(device)\n",
        "\n",
        "# Optimizers\n",
        "gen_opt = t.optim.Adam(gen.parameters(), lr=lr, betas=(0.5, 0.999))\n",
        "disc_opt = t.optim.Adam(disc.parameters(), lr=lr, betas=(0.5, 0.999))"
      ],
      "metadata": {
        "id": "68Dr9bWE8yZu"
      },
      "execution_count": 26,
      "outputs": []
    },
    {
      "cell_type": "code",
      "source": [
        "# Training Loop\n",
        "for epoch in range(EPOCHS):\n",
        "  for real, _ in dataloader_train:\n",
        "    real = real.to(device)\n",
        "    cur_batch_size = len(real)\n",
        "\n",
        "    # Update Discriminator\n",
        "    disc_opt.zero_grad()\n",
        "    d_loss = disc_loss(gen, disc, real, cur_batch_size, z_dim)\n",
        "    d_loss.backward()\n",
        "    disc_opt.step()\n",
        "\n",
        "\n",
        "    # Update Generator\n",
        "    gen_opt.zero_grad()\n",
        "    g_loss = gen_loss(gen, disc, cur_batch_size, z_dim)\n",
        "    g_loss.backward()\n",
        "    gen_opt.step()\n",
        "\n",
        "  print(f\"Epoch {epoch+1}/{EPOCHS} | Disc Loss: {d_loss.item():.4f} | Gen Loss: {g_loss.item():.4f}\")"
      ],
      "metadata": {
        "id": "ohNG1M8y4qOp",
        "colab": {
          "base_uri": "https://localhost:8080/"
        },
        "outputId": "5f6b241f-cba8-43a1-f65c-75f385d1897f"
      },
      "execution_count": null,
      "outputs": [
        {
          "output_type": "stream",
          "name": "stdout",
          "text": [
            "Epoch 1/10 | Disc Loss: 0.3931 | Gen Loss: 1.6487\n",
            "Epoch 2/10 | Disc Loss: 0.2972 | Gen Loss: 2.1998\n",
            "Epoch 3/10 | Disc Loss: 0.2015 | Gen Loss: 2.5688\n",
            "Epoch 4/10 | Disc Loss: 0.1307 | Gen Loss: 3.2512\n",
            "Epoch 5/10 | Disc Loss: 0.0954 | Gen Loss: 3.7029\n",
            "Epoch 6/10 | Disc Loss: 0.0908 | Gen Loss: 3.8707\n"
          ]
        }
      ]
    },
    {
      "cell_type": "markdown",
      "source": [
        "# Generating Images"
      ],
      "metadata": {
        "id": "yDwJ7dWj9zHD"
      }
    },
    {
      "cell_type": "code",
      "source": [
        "num_images = 9\n",
        "noise = t.randn(num_images, z_dim, 1, 1).to(next(gen.parameters()).device)\n",
        "\n",
        "with t.no_grad():\n",
        "  fake = gen(noise)\n",
        "\n",
        "plt.figure(figsize=(10, 10))\n",
        "for i in range(num_images):\n",
        "    image_tensor = fake[i]\n",
        "    image_permuted = image_tensor.permute(1, 2, 0).cpu()\n",
        "    image_denormalized = (image_permuted + 1) / 2\n",
        "\n",
        "    plt.subplot(3, 3, i + 1)\n",
        "    plt.imshow(image_denormalized.numpy())\n",
        "    plt.axis(\"off\")\n",
        "\n",
        "plt.show()"
      ],
      "metadata": {
        "id": "heMAM7S_5nX6"
      },
      "execution_count": null,
      "outputs": []
    },
    {
      "cell_type": "markdown",
      "source": [
        "# Evaluate Model: Frechet Inception Distance"
      ],
      "metadata": {
        "id": "o4piH7JO-3jJ"
      }
    },
    {
      "cell_type": "code",
      "source": [
        "# Initialize FID metric\n",
        "fid = tm.image.fid.FrechetInceptionDistance(feature=2048).to(device)\n",
        "\n",
        "real_images, _ = next(iter(dataloader_train))\n",
        "real_images = real_images.to(device)\n",
        "\n",
        "# Generate a batch of fake images\n",
        "num_images = real_images.size(0)\n",
        "noise = t.randn(num_images, z_dim, 1, 1).to(device)\n",
        "\n",
        "with t.no_grad():\n",
        "    fake_images = gen(noise)\n",
        "\n",
        "# Resize and normalize images for FID\n",
        "resize_transform = tv.transforms.Resize((299, 299))  # Only resizing\n",
        "\n",
        "real_images_rescaled = []\n",
        "fake_images_rescaled = []\n",
        "\n",
        "# Process real images\n",
        "for img in real_images:\n",
        "    img = (img + 1) / 2  # Rescale to [0, 1]\n",
        "    img = tv.transforms.ToPILImage()(img.cpu())  # Convert to PIL Image\n",
        "    img = resize_transform(img)  # Resize the PIL Image\n",
        "    img = t.tensor(np.array(img), dtype=t.uint8).permute(2, 0, 1)  # Convert back to tensor\n",
        "    real_images_rescaled.append(img)\n",
        "\n",
        "# Process fake images\n",
        "for img in fake_images:\n",
        "    img = (img + 1) / 2  # Rescale to [0, 1]\n",
        "    img = tv.transforms.ToPILImage()(img.cpu())  # Convert to PIL Image\n",
        "    img = resize_transform(img)  # Resize the PIL Image\n",
        "    img = t.tensor(np.array(img), dtype=t.uint8).permute(2, 0, 1)  # Convert back to tensor\n",
        "    fake_images_rescaled.append(img)\n",
        "\n",
        "# Convert lists to tensors\n",
        "real_images_rescaled = t.stack(real_images_rescaled).to(device)\n",
        "fake_images_rescaled = t.stack(fake_images_rescaled).to(device)\n",
        "\n",
        "# Update FID metric\n",
        "fid.update(real_images_rescaled, real=True)\n",
        "fid.update(fake_images_rescaled, real=False)\n",
        "\n",
        "# Compute FID score\n",
        "fid_score = fid.compute()\n",
        "print(f\"FID Score: {fid_score.item()}\")"
      ],
      "metadata": {
        "id": "ATIJY6ba_Xs5"
      },
      "execution_count": null,
      "outputs": []
    },
    {
      "cell_type": "code",
      "source": [],
      "metadata": {
        "id": "lv-ytaSrAqXx"
      },
      "execution_count": null,
      "outputs": []
    }
  ],
  "metadata": {
    "language_info": {
      "name": "python"
    },
    "colab": {
      "provenance": [],
      "gpuType": "T4",
      "include_colab_link": true
    },
    "kernelspec": {
      "name": "python3",
      "display_name": "Python 3"
    },
    "accelerator": "GPU"
  },
  "nbformat": 4,
  "nbformat_minor": 0
}