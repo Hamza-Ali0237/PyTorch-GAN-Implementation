{
  "cells": [
    {
      "cell_type": "markdown",
      "metadata": {
        "id": "view-in-github",
        "colab_type": "text"
      },
      "source": [
        "<a href=\"https://colab.research.google.com/github/Hamza-Ali0237/PyTorch-GAN-Implementation/blob/main/GAN.ipynb\" target=\"_parent\"><img src=\"https://colab.research.google.com/assets/colab-badge.svg\" alt=\"Open In Colab\"/></a>"
      ]
    },
    {
      "cell_type": "markdown",
      "metadata": {
        "id": "kTT8Z7ZV-dPp"
      },
      "source": [
        "# Implementing GAN from scratch in PyTorch"
      ]
    },
    {
      "cell_type": "markdown",
      "metadata": {
        "id": "Va-p6q8N-dPr"
      },
      "source": [
        "Dataset: [https://www.kaggle.com/datasets/kvpratama/pokemon-images-dataset](https://www.kaggle.com/datasets/kvpratama/pokemon-images-dataset)"
      ]
    },
    {
      "cell_type": "code",
      "source": [
        "from google.colab import drive\n",
        "drive.mount('/content/drive')"
      ],
      "metadata": {
        "id": "OGWq2vT_E39x",
        "colab": {
          "base_uri": "https://localhost:8080/"
        },
        "outputId": "d2acd8ad-ed2b-4754-e887-9efb8ecb3a4d"
      },
      "execution_count": 1,
      "outputs": [
        {
          "output_type": "stream",
          "name": "stdout",
          "text": [
            "Mounted at /content/drive\n"
          ]
        }
      ]
    },
    {
      "cell_type": "code",
      "execution_count": 2,
      "metadata": {
        "vscode": {
          "languageId": "plaintext"
        },
        "id": "jV-hTPt7-dP-"
      },
      "outputs": [],
      "source": [
        "import torch as t\n",
        "import torch.nn as nn\n",
        "import torchvision as tv\n",
        "import matplotlib.pyplot as plt"
      ]
    },
    {
      "cell_type": "code",
      "source": [
        "# Deep Convolutional Generator Block\n",
        "def dc_gen_block(in_dim, out_dim, kernel_size, stride):\n",
        "  return nn.Sequential(\n",
        "      nn.ConvTranspose2d(in_dim, out_dim, kernel_size, stride=stride),\n",
        "      nn.BatchNorm2d(out_dim),\n",
        "      nn.ReLU()\n",
        "  )\n",
        "\n",
        "# Generator Loss Function\n",
        "def gen_loss(gen, disc, batch_size, z_dim):\n",
        "    noise = t.randn(batch_size, z_dim, 1, 1, device=next(gen.parameters()).device)\n",
        "    fake = gen(noise)\n",
        "    disc_pred = disc(fake)\n",
        "    criterion = nn.BCEWithLogitsLoss()\n",
        "    return criterion(disc_pred, t.ones_like(disc_pred))\n",
        "\n",
        "# Deep Convolutional Generator Class\n",
        "class DCGenerator(nn.Module):\n",
        "    def __init__(self, z_dim, kernel_size=4, stride=2):\n",
        "        super(DCGenerator, self).__init__()\n",
        "        self.gen = nn.Sequential(\n",
        "            dc_gen_block(z_dim, 256, kernel_size, stride),\n",
        "            dc_gen_block(256, 128, kernel_size, stride),\n",
        "            dc_gen_block(128, 64, kernel_size, stride),\n",
        "            nn.ConvTranspose2d(64, 3, kernel_size, stride=stride, padding=1),\n",
        "            nn.Tanh()\n",
        "        )\n",
        "\n",
        "    def forward(self, x):\n",
        "        x = x.view(len(x), -1, 1, 1)\n",
        "        return self.gen(x)"
      ],
      "metadata": {
        "id": "1ZqiUhr6GnYe"
      },
      "execution_count": null,
      "outputs": []
    },
    {
      "cell_type": "code",
      "source": [
        "# Deep Convolutional Discriminator Block\n",
        "def dc_disc_block(in_dim, out_dim, kernel_size, stride):\n",
        "    return nn.Sequential(\n",
        "        nn.Conv2d(in_dim, out_dim, kernel_size, stride=stride, padding=1),\n",
        "        nn.BatchNorm2d(out_dim),\n",
        "        nn.LeakyReLU(0.2)\n",
        "    )\n",
        "\n",
        "# Discriminator Loss Function\n",
        "\n",
        "def disc_loss(gen, disc, real, batch_size, z_dim):\n",
        "    noise = t.randn(batch_size, z_dim, 1, 1, device=next(gen.parameters()).device)\n",
        "    fake = gen(noise).detach()\n",
        "    fake_pred = disc(fake)\n",
        "    real_pred = disc(real)\n",
        "    criterion = nn.BCEWithLogitsLoss()\n",
        "    fake_loss = criterion(fake_pred, t.zeros_like(fake_pred))\n",
        "    real_loss = criterion(real_pred, t.ones_like(real_pred))\n",
        "    return (fake_loss + real_loss) / 2\n",
        "\n",
        "# Deep Convolutional Discriminator Class\n",
        "class DCDiscriminator(nn.Module):\n",
        "    def __init__(self, kernel_size=4, stride=2):\n",
        "        super(DCDiscriminator, self).__init__()\n",
        "        self.disc = nn.Sequential(\n",
        "            dc_disc_block(3, 64, kernel_size, stride),\n",
        "            dc_disc_block(64, 128, kernel_size, stride),\n",
        "            dc_disc_block(128, 256, kernel_size, stride),\n",
        "            nn.Conv2d(256, 1, kernel_size, stride=stride, padding=0)\n",
        "        )\n",
        "\n",
        "    def forward(self, x):\n",
        "        return self.disc(x).view(len(x), -1)"
      ],
      "metadata": {
        "id": "UuqqBE1GFOLV"
      },
      "execution_count": null,
      "outputs": []
    },
    {
      "cell_type": "markdown",
      "source": [
        "# Loading Dataset"
      ],
      "metadata": {
        "id": "Q46R-enF55wd"
      }
    },
    {
      "cell_type": "code",
      "source": [
        "# Define Transformations\n",
        "transform = tv.transforms.Compose([\n",
        "    tv.transforms.Resize(64),\n",
        "    tv.transforms.ToTensor(),\n",
        "    tv.transforms.Normalize((0.5, 0.5, 0.5), (0.5, 0.5, 0.5))\n",
        "])\n",
        "\n",
        "dataset = tv.datasets.ImageFolder(root=\"/content/drive/MyDrive/pokemon-dataset/pokemon\", transform=transform)\n",
        "\n",
        "dataloader_train = t.utils.data.DataLoader(dataset, batch_size=128, shuffle=True)"
      ],
      "metadata": {
        "id": "i-XlZHgi57nx"
      },
      "execution_count": null,
      "outputs": []
    },
    {
      "cell_type": "markdown",
      "source": [
        "# Training Model"
      ],
      "metadata": {
        "id": "x5o9708U575v"
      }
    },
    {
      "cell_type": "code",
      "source": [
        "# HYPERPARAMETERS\n",
        "z_dim = 100\n",
        "lr = 0.0002\n",
        "batch_size = 128\n",
        "EPOCHS = 10"
      ],
      "metadata": {
        "id": "73R6AJ-78t0-"
      },
      "execution_count": null,
      "outputs": []
    },
    {
      "cell_type": "code",
      "source": [
        "# Check for GPU availability\n",
        "device = t.device(\"cuda\" if t.cuda.is_available() else \"cpu\")\n",
        "\n",
        "# Models\n",
        "gen = DCGenerator(z_dim).to(device)\n",
        "disc = DCDiscriminator().to(device)\n",
        "\n",
        "# Optimizers\n",
        "gen_opt = t.optim.Adam(gen.parameters(), lr=lr, betas=(0.5, 0.999))\n",
        "disc_opt = t.optim.Adam(disc.parameters(), lr=lr, betas=(0.5, 0.999))"
      ],
      "metadata": {
        "id": "68Dr9bWE8yZu"
      },
      "execution_count": null,
      "outputs": []
    },
    {
      "cell_type": "code",
      "source": [
        "# Training Loop\n",
        "\n",
        "\n",
        "for epoch in range(EPOCHS):\n",
        "  for real in dataloader_train:\n",
        "    cur_batch_size = len(real)\n",
        "\n",
        "    disc_opt.zero_grad()\n",
        "    disc_loss = disc_loss(gen, disc, real, cur_batch_size, z_dim=16)\n",
        "    disc_loss.backward()\n",
        "    disc_opt.step()\n",
        "\n",
        "    gen_opt.zero_grad()\n",
        "    gen_loss = gen_loss(gen, disc, cur_batch_size, z_dim=16)\n",
        "    gen_loss.backward()\n",
        "    gen_opt.step()"
      ],
      "metadata": {
        "id": "ohNG1M8y4qOp"
      },
      "execution_count": null,
      "outputs": []
    },
    {
      "cell_type": "code",
      "source": [],
      "metadata": {
        "id": "heMAM7S_5nX6"
      },
      "execution_count": null,
      "outputs": []
    }
  ],
  "metadata": {
    "language_info": {
      "name": "python"
    },
    "colab": {
      "provenance": [],
      "gpuType": "T4",
      "include_colab_link": true
    },
    "kernelspec": {
      "name": "python3",
      "display_name": "Python 3"
    },
    "accelerator": "GPU"
  },
  "nbformat": 4,
  "nbformat_minor": 0
}